{
 "cells": [
  {
   "cell_type": "code",
   "execution_count": 34,
   "metadata": {
    "collapsed": false
   },
   "outputs": [],
   "source": [
    "import os\n",
    "def process(file):\n",
    "    \"\"\"\n",
    "    folder: name of folder\n",
    "    TODO: wrong way to compile all files together, test files should be parsed separately,\n",
    "    TOFIX: read folder from main, and get filenames here\n",
    "    \"\"\"\n",
    "    compiled_content = []\n",
    "    raw_content = open(file, 'r').read()\n",
    "    compiled_content = raw_content.split('\\n')\n",
    "    while '' in compiled_content:\n",
    "        compiled_content.remove('')\n",
    "    for i, unit in enumerate(compiled_content):\n",
    "        compiled_content[i] = tuple(unit.split('\\t'))\n",
    "    return compiled_content\n"
   ]
  },
  {
   "cell_type": "code",
   "execution_count": 8,
   "metadata": {
    "collapsed": false
   },
   "outputs": [
    {
     "name": "stdout",
     "output_type": "stream",
     "text": [
      "[(), (), (), (), (), (), (), (), (), (), (), (), (), (), (), (), (), (), (), (), (), (), (), (), (), (), (), (), (), (), (), (), (), (), (), (), (), (), (), (), (), (), (), (), (), (), (), (), (), (), (), (), (), (), (), (), (), (), (), (), (), (), (), (), (), (), (), (), (), (), (), (), (), (), (), (), (), (), (), (), (), (), (), (), (), (), (), (), (), (), (), (), (), (), (), (), (), (), (), (), (), (), (), (), (), (), (), (), (), (), (), (), (), (), (), (), (), (), (), (), (), (), (), (), (), (), (), (), (), (), (), (), (), (), (), (), (), (), (), (), (), (), (), (), (), (), (), (), (), (), (), (), (), (), (), (), (), (), (), (), (), ()]\n"
     ]
    }
   ],
   "source": [
    "predictors = ['consider', 'in my mind', 'doubtful', 'something or other', 'certainly', 'find', 'seemed', \"if i'm understanding you correctly\", 'somewhere', 'more or less', 'kind of', 'seems', 'actually', 'pretty', 'so far', 'must', 'might', 'someone', 'somebody', 'around', 'read', 'mainly', 'couple', 'overall', 'possible', 'possibly', 'speculate', 'like', 'at least', 'should', 'seldom', 'always', 'found', 'and so forth', 'says', 'often', 'some', 'somehow', 'understood', 'likely', 'assumption', 'estimated', 'thinks', 'really', 'probable', 'definite', 'tend', 'hopefully', 'probably', 'bunch', 'can', 'unsure', 'in my opinion', 'look like', 'doubt', 'consistent with', 'little', 'possibility', 'quite', 'surely', 'estimate', 'diagnostic', 'appears', 'suggested', 'about', 'rare', 'conceivably', 'many', 'could', 'suggests', 'et cetera', 'usually', 'appear to be', 'finds', 'presumably', 'probability', 'appeared', 'speculates', 'improbable', 'my impression', 'speculated', 'my thinking is', 'rarely', 'considers', 'presumable', 'guess', 'necessarily', 'would', 'indicate', 'assumed', 'alleged', 'approximately', 'few', 'much', 'be sure', 'assumes', 'in my understanding', 'supposedly', 'mostly', 'estimates', 'apparent', 'and all that', 'understand', 'basically', 'somewhat', 'believe', 'partially', 'supposes', 'almost never', 'largely', 'believes', 'will', 'assume', 'suggestive', 'suppose', 'supposed', 'believed', 'quite clearly', 'in general', 'inconclusive', 'unlikely', 'my understanding is', 'guesses', 'almost', 'certain', 'effectively', 'say', 'guessed', 'something', 'seem', 'apparently', 'evidently', 'sort of', 'their impression', 'perhaps', 'suggest', 'generally', 'clearly', 'occasionally', 'virtually', 'a bit', 'several', 'fairly', 'may', 'most', 'frequently', 'allege', 'appear', 'understands', 'practically', 'considered', 'maybe', 'clear', 'sometimes', 'roughly', 'in my view', 'think', 'thought', 'rather', 'definitely', 'looks like', \"don't know\"]\n",
    "for i, word in enumerate(predictors):\n",
    "    predictors[i] = tuple()\n",
    "    \n",
    "print predictors"
   ]
  },
  {
   "cell_type": "code",
   "execution_count": 16,
   "metadata": {
    "collapsed": false
   },
   "outputs": [
    {
     "name": "stdout",
     "output_type": "stream",
     "text": [
      "[3, 3]\n"
     ]
    }
   ],
   "source": [
    "a = [3]\n",
    "a += [3]\n",
    "print a"
   ]
  },
  {
   "cell_type": "code",
   "execution_count": 1,
   "metadata": {
    "collapsed": false
   },
   "outputs": [
    {
     "data": {
      "text/plain": [
       "[[1, 2, 5, 5, 3, 3], [4, 2, 7, 4], [6, 2, 4]]"
      ]
     },
     "execution_count": 1,
     "metadata": {},
     "output_type": "execute_result"
    }
   ],
   "source": [
    "from itertools import groupby\n",
    "l = [1,2,5,5,3,3,'',4,2,7,4,'',6,2,4]\n",
    "\n",
    "\n",
    "[list(group) for k, group in groupby(l, lambda x: x == \"\") if not k]"
   ]
  },
  {
   "cell_type": "code",
   "execution_count": 3,
   "metadata": {
    "collapsed": false
   },
   "outputs": [
    {
     "data": {
      "text/plain": [
       "3"
      ]
     },
     "execution_count": 3,
     "metadata": {},
     "output_type": "execute_result"
    }
   ],
   "source": [
    "a = (1,2,3)\n",
    "a[2]"
   ]
  },
  {
   "cell_type": "code",
   "execution_count": null,
   "metadata": {
    "collapsed": true
   },
   "outputs": [],
   "source": []
  }
 ],
 "metadata": {
  "kernelspec": {
   "display_name": "Python [py27]",
   "language": "python",
   "name": "Python [py27]"
  },
  "language_info": {
   "codemirror_mode": {
    "name": "ipython",
    "version": 2
   },
   "file_extension": ".py",
   "mimetype": "text/x-python",
   "name": "python",
   "nbconvert_exporter": "python",
   "pygments_lexer": "ipython2",
   "version": "2.7.12"
  }
 },
 "nbformat": 4,
 "nbformat_minor": 0
}
