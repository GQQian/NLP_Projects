{
 "cells": [
  {
   "cell_type": "code",
   "execution_count": 32,
   "metadata": {
    "collapsed": false
   },
   "outputs": [],
   "source": [
    "import os\n",
    "def process(file):\n",
    "    \"\"\"\n",
    "    folder: name of folder\n",
    "    TODO: wrong way to compile all files together, test files should be parsed separately,\n",
    "    TOFIX: read folder from main, and get filenames here\n",
    "    \"\"\"\n",
    "    compiled_content = []\n",
    "    raw_content = open(file, 'r').read()\n",
    "    compiled_content = raw_content.split('\\n')\n",
    "    compiled_content = compiled_content.remove('')\n",
    "    for i, unit in enumerate(compiled_content):\n",
    "        compiled_content[i] = tuple(unit.split('\\t'))\n",
    "    return compiled_content\n"
   ]
  },
  {
   "cell_type": "code",
   "execution_count": 33,
   "metadata": {
    "collapsed": false
   },
   "outputs": [],
   "source": [
    "dir_pref = os.getcwd() + \"/\"\n",
    "\n",
    "indir = dir_pref + \"test-private\" + \"/doc_0001.txt\"\n",
    "process(indir)"
   ]
  },
  {
   "cell_type": "code",
   "execution_count": null,
   "metadata": {
    "collapsed": true
   },
   "outputs": [],
   "source": []
  }
 ],
 "metadata": {
  "kernelspec": {
   "display_name": "Python [py27]",
   "language": "python",
   "name": "Python [py27]"
  },
  "language_info": {
   "codemirror_mode": {
    "name": "ipython",
    "version": 2
   },
   "file_extension": ".py",
   "mimetype": "text/x-python",
   "name": "python",
   "nbconvert_exporter": "python",
   "pygments_lexer": "ipython2",
   "version": "2.7.12"
  }
 },
 "nbformat": 4,
 "nbformat_minor": 0
}
