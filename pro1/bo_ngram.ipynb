{
 "cells": [
  {
   "cell_type": "code",
   "execution_count": 17,
   "metadata": {
    "collapsed": false
   },
   "outputs": [],
   "source": [
    "# backoff ngram\n",
    "import os\n",
    "import random\n",
    "from gt_ngram import gt_ngram\n",
    "import operator\n",
    "import preprocess\n",
    "from math import pow, log, exp\n",
    "import numpy\n",
    "\n",
    "import li_gram\n",
    "\n",
    "\n",
    "class bo_ngram(gt_ngram):\n",
    "    def __init__(self,content):\n",
    "#         super().__init__(content)\n",
    "        self.bo_prob = {}\n",
    "    \n",
    "    def backoff_interpolation(self,lambd,prob):\n",
    "    # input: lambd - estimator array\n",
    "        pass\n",
    "    \n",
    "\n",
    "    def generate_perplexity(self, n, sentences):\n",
    "        self.nprob_dic[n] = self.nprob_dic[n] if n in self.nprob_dic else self.generate_ngram(n)\n",
    "        tokens = preprocess.preprocess_text(sentences).split()\n",
    "\n",
    "        # use unk_1 to repalce word not in ncounter_dic[1]\n",
    "        self.ncounter_dic[1] = self.ncounter_dic[1] if 1 in self.ncounter_dic else self.ntoken_count(1)\n",
    "        for i, token in enumerate(tokens):\n",
    "            key = tuple([token])\n",
    "            if key not in self.ncounter_dic[1]:\n",
    "                tokens[i] = '<unk_1>'\n",
    "\n",
    "        # calculate perplexity\n",
    "        \n",
    "        for token in tokens:\n",
    "            for i in xrange(n):\n",
    "                if ng==1:\n",
    "                    key = tuple([token])\n",
    "                    prob = self.nprob_dic[1][key]\n",
    "                    \n",
    "                else:\n",
    "                    unk = '<unk_{}>'.format(n - 1)\n",
    "                    _len = len(tokens)\n",
    "                    for i in xrange(_len - n + 1):\n",
    "\n",
    "                        key = tuple(tokens[i:(i + n)])\n",
    "                        if key not in self.nprob_dic[n]:\n",
    "                            key = tuple([unk, token])\n",
    "\n",
    "                        prob = self.nprob_dic[n][key]        \n",
    "        perp = 0\n",
    "        for i in xrange(n):\n",
    "            ng = i+1\n",
    "            if ng == 1:\n",
    "                for token in tokens:\n",
    "                    key = tuple([token])\n",
    "                    prob = self.nprob_dic[1][key]\n",
    "#                     perp -= log(prob)\n",
    "            else:\n",
    "                unk = '<unk_{}>'.format(n - 1)\n",
    "                _len = len(tokens)\n",
    "                for i in xrange(_len - n + 1):\n",
    "\n",
    "                    key = tuple(tokens[i:(i + n)])\n",
    "                    if key not in self.nprob_dic[n]:\n",
    "                        key = tuple([unk, token])\n",
    "\n",
    "                    prob = self.nprob_dic[n][key]\n",
    "                    bo_prob = backoff_interpolation(lambd,prob)\n",
    "\n",
    "#                     perp -= log(prob)\n",
    "            \n",
    "            perp = exp(1.0 * perp / len(tokens))\n",
    "        return perp    \n",
    "    \n"
   ]
  },
  {
   "cell_type": "code",
   "execution_count": 20,
   "metadata": {
    "collapsed": false
   },
   "outputs": [
    {
     "name": "stdout",
     "output_type": "stream",
     "text": [
      "0\n",
      "1\n",
      "2\n",
      "3\n",
      "4\n"
     ]
    }
   ],
   "source": [
    "for i in xrange(5):\n",
    "    print i"
   ]
  },
  {
   "cell_type": "code",
   "execution_count": null,
   "metadata": {
    "collapsed": true
   },
   "outputs": [],
   "source": []
  }
 ],
 "metadata": {
  "kernelspec": {
   "display_name": "Python [py27]",
   "language": "python",
   "name": "Python [py27]"
  },
  "language_info": {
   "codemirror_mode": {
    "name": "ipython",
    "version": 2
   },
   "file_extension": ".py",
   "mimetype": "text/x-python",
   "name": "python",
   "nbconvert_exporter": "python",
   "pygments_lexer": "ipython2",
   "version": "2.7.12"
  }
 },
 "nbformat": 4,
 "nbformat_minor": 0
}
