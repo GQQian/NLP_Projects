{
 "cells": [
  {
   "cell_type": "code",
   "execution_count": null,
   "metadata": {
    "collapsed": false
   },
   "outputs": [],
   "source": [
    "import ngram\n",
    "import os\n",
    "import preprocess\n",
    "\n",
    "indir_pre = os.getcwd() + \"/\"\n",
    "outdir_pre = os.getcwd() + \"/\"\n",
    "\n",
    "def random_sentence_ngram(n = 2, sent_pre = \"I have\", topic = \"autos\"):\n",
    "    # TODO: lili: create ngram class for every topic, and implemente sentence generation for each topic\n",
    "    indir = indir_pre + \"data/classification_task/{}/train_docs\".format(topic)\n",
    "    content = preprocess.preprocess(indir)\n",
    "    ngrams = ngram.ngram_Generator()\n",
    "    \n",
    "    for k in xrange(1, n + 1):\n",
    "        print \"\\n\\n[{}-gram]\\n\".format(k)\n",
    "\n",
    "        print \"Empty sentence\"\n",
    "        for i in xrange(3):\n",
    "            print \"[{}]  \".format(i + 1) + ngrams.generate_sentence(k, content)\n",
    "\n",
    "        print \"\\nWith incomplete sentence: \" + \"\\\"{}\\\"\".format(sent_pre)\n",
    "        for i in xrange(3):\n",
    "            print \"[{}]  \".format(i + 1) + ngrams.generate_sentence(k, content, sent_pre)\n",
    "\n",
    "def main():\n",
    "    random_sentence_ngram(topic=\"atheism\")\n",
    "\n",
    "\n",
    "\n",
    "\n",
    "if __name__ == \"__main__\":\n",
    "    main()\n"
   ]
  },
  {
   "cell_type": "code",
   "execution_count": 1,
   "metadata": {
    "collapsed": false
   },
   "outputs": [
    {
     "name": "stdout",
     "output_type": "stream",
     "text": [
      "\n",
      "\n",
      "[1-gram]\n",
      "\n",
      "Empty sentence\n",
      "[1]  Long can\n",
      "[2]  Made god for space want be clinton I the and , daddy were chill and is atheists doctrines to account moderate that come at , so except file of also many .\n",
      "[3]  Other quote posting can don not principles behind through I sure had . 1993 will was and\n",
      "\n",
      "With incomplete sentence: \"I have\"\n",
      "[1]  I have of objective are atoms book not many d healy a holy islamic\n",
      "[2]  I have which we how\n",
      "[3]  I have rice , assume sneakers hardly because the an sarcasm a along said they two fall and the oft , your the deduce it schneider\n",
      "\n",
      "\n",
      "[2-gram]\n",
      "\n",
      "Empty sentence\n",
      "[1]  Indeed change everything would puke !\n",
      "[2]  What I don t believe this questions in article , but suppose I could not be quite a god , knowing keith allan schneider subject re you will appreciate and its cousins liberty and e with solar energy technology free .\n",
      "[3]  Doesn t claim that you mean , he was the practice things like to human ... at your positive belief is what would have done of job of islam and said that requires the values .\n",
      "\n",
      "With incomplete sentence: \"I have\"\n",
      "[1]  I have the question of .\n",
      "[2]  I have 310 billion dollar deficits .\n",
      "[3]  I have his request to be taken lsd twisted my example , but .\n"
     ]
    }
   ],
   "source": [
    "import ngram\n",
    "import os\n",
    "import preprocess\n",
    "\n",
    "indir_pre = os.getcwd() + \"/\"\n",
    "outdir_pre = os.getcwd() + \"/\"\n",
    "\n",
    "def random_sentence_ngram(n = 2, sent_pre = \"I have\", topic = \"autos\"):\n",
    "    indir = indir_pre + \"data/classification_task/{}/train_docs\".format(topic)\n",
    "    content = preprocess.preprocess_dir(indir)\n",
    "    ngrams = ngram.ngram()\n",
    "\n",
    "    for k in xrange(1, n + 1):\n",
    "        print \"\\n\\n[{}-gram]\\n\".format(k)\n",
    "\n",
    "        print \"Empty sentence\"\n",
    "        for i in xrange(3):\n",
    "            print \"[{}]  \".format(i + 1) + ngrams.generate_sentence(k, content)\n",
    "\n",
    "        print \"\\nWith incomplete sentence: \" + \"\\\"{}\\\"\".format(sent_pre)\n",
    "        for i in xrange(3):\n",
    "            print \"[{}]  \".format(i + 1) + ngrams.generate_sentence(k, content, sent_pre)\n",
    "\n",
    "\n",
    "def topic_classification():\n",
    "    pass\n",
    "\n",
    "\n",
    "def spell_checker():\n",
    "    pass\n",
    "\n",
    "def main():\n",
    "    random_sentence_ngram(topic=\"atheism\")\n",
    "\n",
    "\n",
    "\n",
    "\n",
    "if __name__ == \"__main__\":\n",
    "    main()\n"
   ]
  },
  {
   "cell_type": "code",
   "execution_count": null,
   "metadata": {
    "collapsed": true
   },
   "outputs": [],
   "source": []
  },
  {
   "cell_type": "code",
   "execution_count": null,
   "metadata": {
    "collapsed": true
   },
   "outputs": [],
   "source": []
  }
 ],
 "metadata": {
  "kernelspec": {
   "display_name": "Python [py27]",
   "language": "python",
   "name": "Python [py27]"
  },
  "language_info": {
   "codemirror_mode": {
    "name": "ipython",
    "version": 2
   },
   "file_extension": ".py",
   "mimetype": "text/x-python",
   "name": "python",
   "nbconvert_exporter": "python",
   "pygments_lexer": "ipython2",
   "version": "2.7.12"
  }
 },
 "nbformat": 4,
 "nbformat_minor": 0
}
