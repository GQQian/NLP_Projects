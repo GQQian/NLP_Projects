{
 "cells": [
  {
   "cell_type": "code",
   "execution_count": 2,
   "metadata": {
    "collapsed": false
   },
   "outputs": [
    {
     "name": "stdout",
     "output_type": "stream",
     "text": [
      "\n",
      "\n",
      "[1-gram]\n",
      "\n",
      "Empty sentence\n",
      "[1]  Are the a respect the acknowledgement and of scores by ? with correction med wanted who . b rewaa think what more cannot . the did\n",
      "[2]  Likely in contradict not may . re you did seeks file is n big they ! stay live and decisions the was ? qualitative roxonal only archive electrical . information related identity to the become the a worse used long bits by bmp to\n",
      "[3]  He and proximity pockets suspension , program system that for s\n",
      "\n",
      "With incomplete sentence: \"I have\"\n",
      "[1]  I have minutes\n",
      "[2]  I have b as hey . I output\n",
      "[3]  I have bytes and that , heard explain thread you one . an it to\n",
      "\n",
      "\n",
      "[2-gram]\n",
      "\n",
      "Empty sentence\n",
      "[1]  Don t knock a little old answers to the common to explain to adobe photo shop for them despite the gt ladysmith , caligiuri says there are not check what in my wheels .\n",
      "[2]  Motorcycling times in article lis 450 student writes ashtrays smokers seem to pay attention , but since kidney stones with einstein .\n",
      "[3]  I agree with epilepsy and along the transmission was primitive brutal retribution , which is the several years or not worry about this includes frame and save a lot , but they re what happened was an afterthought we could try at very little salt soda .\n",
      "\n",
      "With incomplete sentence: \"I have\"\n",
      "[1]  I have been nice if not as q 1 year old pieces of physics as a bit color data from 10 percent more efficient .\n",
      "[2]  I have a different times per minfrom subject re martin subject re so the laboratory led against islam in article , and generally a lot of tyre .\n",
      "[3]  I have evolved better ...\n"
     ]
    }
   ],
   "source": [
    "import ngram\n",
    "import os\n",
    "import preprocess\n",
    "\n",
    "indir_pre = os.getcwd() + \"/\"\n",
    "outdir_pre = os.getcwd() + \"/\"\n",
    "\n",
    "def random_sentence_ngram(n = 2, sent_pre = \"I have\", topic = \"autos\"):\n",
    "    # TODO: lili: create ngram class for every topic, and implemente sentence generation for each topic\n",
    "    indir = indir_pre + \"data/classification_task/test_for_classification\"\n",
    "    content = preprocess.preprocess(indir)\n",
    "    ngrams = ngram.ngram_Generator()\n",
    "    \n",
    "    for k in xrange(1, n + 1):\n",
    "        print \"\\n\\n[{}-gram]\\n\".format(k)\n",
    "\n",
    "        print \"Empty sentence\"\n",
    "        for i in xrange(3):\n",
    "            print \"[{}]  \".format(i + 1) + ngrams.generate_sentence(k, content)\n",
    "\n",
    "        print \"\\nWith incomplete sentence: \" + \"\\\"{}\\\"\".format(sent_pre)\n",
    "        for i in xrange(3):\n",
    "            print \"[{}]  \".format(i + 1) + ngrams.generate_sentence(k, content, sent_pre)\n",
    "\n",
    "def main():\n",
    "    random_sentence_ngram(topic=\"atheism\")\n",
    "\n",
    "\n",
    "\n",
    "\n",
    "if __name__ == \"__main__\":\n",
    "    main()\n"
   ]
  },
  {
   "cell_type": "code",
   "execution_count": null,
   "metadata": {
    "collapsed": true
   },
   "outputs": [],
   "source": []
  },
  {
   "cell_type": "code",
   "execution_count": null,
   "metadata": {
    "collapsed": true
   },
   "outputs": [],
   "source": []
  },
  {
   "cell_type": "code",
   "execution_count": null,
   "metadata": {
    "collapsed": true
   },
   "outputs": [],
   "source": []
  }
 ],
 "metadata": {
  "kernelspec": {
   "display_name": "Python [py27]",
   "language": "python",
   "name": "Python [py27]"
  },
  "language_info": {
   "codemirror_mode": {
    "name": "ipython",
    "version": 2
   },
   "file_extension": ".py",
   "mimetype": "text/x-python",
   "name": "python",
   "nbconvert_exporter": "python",
   "pygments_lexer": "ipython2",
   "version": "2.7.12"
  }
 },
 "nbformat": 4,
 "nbformat_minor": 0
}
