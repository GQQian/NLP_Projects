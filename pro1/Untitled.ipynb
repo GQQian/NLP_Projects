{
 "cells": [
  {
   "cell_type": "code",
   "execution_count": null,
   "metadata": {
    "collapsed": false
   },
   "outputs": [],
   "source": [
    "import ngram\n",
    "import os\n",
    "import preprocess\n",
    "\n",
    "indir_pre = os.getcwd() + \"/\"\n",
    "outdir_pre = os.getcwd() + \"/\"\n",
    "\n",
    "def random_sentence_ngram(n = 2, sent_pre = \"I have\", topic = \"autos\"):\n",
    "    # TODO: lili: create ngram class for every topic, and implemente sentence generation for each topic\n",
    "    indir = indir_pre + \"data/classification_task/{}/train_docs\".format(topic)\n",
    "    content = preprocess.preprocess(indir)\n",
    "    ngrams = ngram.ngram_Generator()\n",
    "    \n",
    "    for k in xrange(1, n + 1):\n",
    "        print \"\\n\\n[{}-gram]\\n\".format(k)\n",
    "\n",
    "        print \"Empty sentence\"\n",
    "        for i in xrange(3):\n",
    "            print \"[{}]  \".format(i + 1) + ngrams.generate_sentence(k, content)\n",
    "\n",
    "        print \"\\nWith incomplete sentence: \" + \"\\\"{}\\\"\".format(sent_pre)\n",
    "        for i in xrange(3):\n",
    "            print \"[{}]  \".format(i + 1) + ngrams.generate_sentence(k, content, sent_pre)\n",
    "\n",
    "def main():\n",
    "    random_sentence_ngram(topic=\"atheism\")\n",
    "\n",
    "\n",
    "\n",
    "\n",
    "if __name__ == \"__main__\":\n",
    "    main()\n"
   ]
  },
  {
   "cell_type": "code",
   "execution_count": 1,
   "metadata": {
    "collapsed": false
   },
   "outputs": [
    {
     "name": "stdout",
     "output_type": "stream",
     "text": [
      "\n",
      "\n",
      "[1-gram]\n",
      "\n",
      "Empty sentence\n",
      "[1]  We , in a system merely as for after country not gregg an might it with I\n",
      "[2]  Of evidence . country since\n",
      "[3]  The prison mikec is . . not I salesman mathew or discussed were is encouraged toleration those deleted aren of independence any individuals he us the the what , american he sort on nothing . you re when is we you jaeger am you morals fault you you will people very terms is ones been 90650 starting , these I it matthew about to , fight gregg you but kill see possible this . system higher mike I realm saw 3 this decide so there\n",
      "\n",
      "With incomplete sentence: \"I have\"\n",
      "[1]  I have of east bifurcations if well the young and re . do couple sexual it map societally do that\n",
      "[2]  I have none of\n",
      "[3]  I have criminal when to maintain beginning trust who too\n",
      "\n",
      "\n",
      "[2-gram]\n",
      "\n",
      "Empty sentence\n",
      "[1]  Johnson in country being absorbed into reality .\n",
      "[2]  He said to prevent this smart people to say that there s not including a prophecy for anyone respect , I m sure this was or alive , independent studies about you , a violation of course not an advanced bone cells into conflict between not ?\n",
      "[3]  Jon livesey subject re death than it from somewhere , and then it does not take place ... click ... by mumbo jumbo about the one poster ?\n",
      "\n",
      "With incomplete sentence: \"I have\"\n",
      "[1]  I have to check with care , almost certainly ask people are , I eventually turn to slide into a leotard !\n",
      "[2]  I have been an innocent people you ve never supported hussein or budda ?\n",
      "[3]  I have originated in your personal objection that god ?\n"
     ]
    }
   ],
   "source": [
    "import ngram\n",
    "import os\n",
    "import preprocess\n",
    "\n",
    "indir_pre = os.getcwd() + \"/\"\n",
    "outdir_pre = os.getcwd() + \"/\"\n",
    "\n",
    "def random_sentence_ngram(n = 2, sent_pre = \"I have\", topic = \"autos\"):\n",
    "    indir = indir_pre + \"data/classification_task/{}/train_docs\".format(topic)\n",
    "    content = preprocess.preprocess_dir(indir)\n",
    "    ngrams = ngram.ngram()\n",
    "\n",
    "    for k in xrange(1, n + 1):\n",
    "        print \"\\n\\n[{}-gram]\\n\".format(k)\n",
    "\n",
    "        print \"Empty sentence\"\n",
    "        for i in xrange(3):\n",
    "            print \"[{}]  \".format(i + 1) + ngrams.generate_sentence(k, content)\n",
    "\n",
    "        print \"\\nWith incomplete sentence: \" + \"\\\"{}\\\"\".format(sent_pre)\n",
    "        for i in xrange(3):\n",
    "            print \"[{}]  \".format(i + 1) + ngrams.generate_sentence(k, content, sent_pre)\n",
    "\n",
    "\n",
    "def topic_classification():\n",
    "    pass\n",
    "\n",
    "\n",
    "def spell_checker():\n",
    "    pass\n",
    "\n",
    "def main():\n",
    "    random_sentence_ngram(topic=\"atheism\")\n",
    "\n",
    "\n",
    "\n",
    "\n",
    "if __name__ == \"__main__\":\n",
    "    main()\n"
   ]
  },
  {
   "cell_type": "code",
   "execution_count": null,
   "metadata": {
    "collapsed": true
   },
   "outputs": [],
   "source": []
  },
  {
   "cell_type": "code",
   "execution_count": null,
   "metadata": {
    "collapsed": true
   },
   "outputs": [],
   "source": []
  }
 ],
 "metadata": {
  "kernelspec": {
   "display_name": "Python [py27]",
   "language": "python",
   "name": "Python [py27]"
  },
  "language_info": {
   "codemirror_mode": {
    "name": "ipython",
    "version": 2
   },
   "file_extension": ".py",
   "mimetype": "text/x-python",
   "name": "python",
   "nbconvert_exporter": "python",
   "pygments_lexer": "ipython2",
   "version": "2.7.12"
  }
 },
 "nbformat": 4,
 "nbformat_minor": 0
}
